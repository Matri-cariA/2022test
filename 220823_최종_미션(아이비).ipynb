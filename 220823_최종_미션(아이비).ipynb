{
  "cells": [
    {
      "cell_type": "markdown",
      "metadata": {
        "id": "view-in-github",
        "colab_type": "text"
      },
      "source": [
        "<a href=\"https://colab.research.google.com/github/Matri-cariA/2022test/blob/main/220823_%EC%B5%9C%EC%A2%85_%EB%AF%B8%EC%85%98(%EC%95%84%EC%9D%B4%EB%B9%84).ipynb\" target=\"_parent\"><img src=\"https://colab.research.google.com/assets/colab-badge.svg\" alt=\"Open In Colab\"/></a>"
      ]
    },
    {
      "cell_type": "markdown",
      "metadata": {
        "id": "kXE_xe7t63J1"
      },
      "source": [
        "#우리 학급 도우미\n",
        "###*내용: 저희반 학급 운영에 적용되는 활동에 활용할 수 있는 프로그램들을 여러개 구현하고 원하는 프로그램을 선택한 후 실행할 수 있게 진행하려고 합니다. \n",
        "\n",
        "1) 모둠 랜덤 배정 프로그램  \n",
        "\n",
        "2) 수학 점수 관리 프로그램(단원평가 결과 액셀 데이터, 점수 추이 그래프, 우리반에서 내 순위 확인) \n",
        "\n"
      ]
    },
    {
      "cell_type": "code",
      "execution_count": null,
      "metadata": {
        "id": "j-HNZkxu25Rs"
      },
      "outputs": [],
      "source": [
        "!apt-get install fonts-nanum -qq > /dev/null\n",
        "!fc-cache -fv\n",
        "import matplotlib as mpl\n",
        "mpl.font_manager._rebuild()\n",
        "findfont = mpl.font_manager.fontManager.findfont\n",
        "mpl.font_manager.findfont = findfont\n",
        "mpl.backends.backend_agg.findfont = findfont\n",
        "\n",
        "import matplotlib.pyplot as plt\n",
        "plt. rc('font', family = 'NanumGothic')\n",
        "plt.rcParams['axes.unicode_minus'] = False"
      ]
    },
    {
      "cell_type": "code",
      "execution_count": null,
      "metadata": {
        "colab": {
          "background_save": true,
          "base_uri": "https://localhost:8080/"
        },
        "id": "gWkTbrSs6zp7",
        "outputId": "26683e0b-a9e9-439d-e367-eaddfaa27efd"
      },
      "outputs": [
        {
          "name": "stdout",
          "output_type": "stream",
          "text": [
            "당신의 수학 평균 점수 순위는 8위 입니다.\n"
          ]
        }
      ],
      "source": [
        "\n",
        "import random\n",
        "import time\n",
        "import csv\n",
        "import matplotlib.pyplot as plt\n",
        "\n",
        "\n",
        "\n",
        "data = open('우리반명단.txt')\n",
        "data2 = csv.reader(open('수학성적.csv'))\n",
        "next(data2)\n",
        "\n",
        "#명단 생성\n",
        "\n",
        "names = []\n",
        "for row in data:\n",
        "  names.append(row)\n",
        "\n",
        "#질문 \n",
        "q1 = input('***안녕하세요, 6학년 4반 학급 운영 도우미입니다. 원하는 프로그램의 숫자를 눌러주세요.(랜덤그룹생성:1, 수학 성적 분석 2 입력)***')\n",
        "\n",
        "#그룹 생성 \n",
        "if q1 == str(1):\n",
        "  group1 = []\n",
        "  group2 = []\n",
        "  group3 = []\n",
        "  group4 = []\n",
        "  group5 = []\n",
        "  group6 = []\n",
        "  rests  = [] \n",
        "\n",
        " #랜덤 그룹 분배 \n",
        "  while True:\n",
        "     if len(names) >= 6:\n",
        "       a = random.choice(names)\n",
        "       group1.append(a.strip())\n",
        "       names.remove(a)\n",
        "       a = random.choice(names)\n",
        "       group2.append(a.strip())\n",
        "       names.remove(a)\n",
        "       a = random.choice(names)\n",
        "       group3.append(a.strip())\n",
        "       names.remove(a)\n",
        "       a = random.choice(names)\n",
        "       group4.append(a.strip())\n",
        "       names.remove(a)\n",
        "       a = random.choice(names)\n",
        "       group5.append(a.strip())\n",
        "       names.remove(a)\n",
        "       a = random.choice(names)\n",
        "       group6.append(a.strip())\n",
        "       names.remove(a)\n",
        "  \n",
        "     else:   \n",
        "      break\n",
        "  \n",
        "  for stu in names:\n",
        "    rests.append(stu.strip())\n",
        "\n",
        " #스크립트\n",
        "  print('***3초 뒤에 조별 명단을 발표합니다.***')\n",
        "  print('3')\n",
        "  time.sleep(1)\n",
        "  print('2')\n",
        "  time.sleep(1)\n",
        "  print('1')\n",
        "  time.sleep(1)\n",
        "\n",
        " #결과 출력  \n",
        "  print('1조:' , group1[0]+'(조장)', group1[1], group1[2], group1[3] )\n",
        "  print('2조:' , group2[0]+'(조장)', group2[1], group2[2], group2[3] )\n",
        "  print('3조:' , group3[0]+'(조장)', group3[1], group3[2], group3[3] )\n",
        "  print('4조:' , group4[0]+'(조장)', group4[1], group4[2], group4[3] )\n",
        "  for i in rests:\n",
        "    print('*원하는 조를 선택할 사람:', i)\n",
        "\n",
        "grade_x = []\n",
        "grade_y = []\n",
        "\n",
        "if q1 == str(2):\n",
        "  while True:\n",
        "    q2 = input('***수학 성적 분석 프로그램입니다. 원하는 프로그램의 숫자를 눌러주세요.(성적확인:1, 우리반에서 내 점수 순위:2 점수 향상 그래프:3 우리반 성장왕:4 입력)***')\n",
        "    if q2 == str(1):\n",
        "      q3 = input('***이름을 입력하세요***')\n",
        "      for row2 in data2:\n",
        "        if row2[0] == str(q3):\n",
        "          print('1단원', row2[1]+'점',',', '2단원', row2[2]+'점',',', '3단원', row2[3]+'점',',', '4단원', row2[4]+'점' )\n",
        "    if q2 == str(3): \n",
        "      q3 = input('***이름을 입력하세요***')\n",
        "      for row2 in data2:\n",
        "        if row2[0] == str(q3):\n",
        "          for i in range(0,5):\n",
        "            if row2[i+1] != '':\n",
        "              grade_x.append(str(i+1)+'단원')\n",
        "              grade_y.append(row2[i+1])\n",
        "          plt.figure(figsize=(10, 5) )\n",
        "          plt.rc('font', family = 'NanumGothic')\n",
        "          plt.rcParams['axes.unicode_minus'] = False\n",
        "\n",
        "          plt.title('수학 성적 그래프')\n",
        "          plt.plot(grade_x, grade_y, c='orange')\n",
        "          plt.show()     \n",
        "    if q2 == str(2):\n",
        "      q3 = input('***이름을 입력하세요***')\n",
        "      for row2 in data2:\n",
        "        if row2[0] == str(q3):\n",
        "          print('당신의 수학 평균 점수 순위는', row2[8]+'위 입니다.')\n",
        "\n",
        "\n"
      ]
    }
  ],
  "metadata": {
    "colab": {
      "collapsed_sections": [],
      "name": "220823_최종 미션(아이비).ipynb",
      "provenance": [],
      "authorship_tag": "ABX9TyOSMzoUwz8u8zjrYEN8S6ZM",
      "include_colab_link": true
    },
    "kernelspec": {
      "display_name": "Python 3",
      "name": "python3"
    },
    "language_info": {
      "name": "python"
    }
  },
  "nbformat": 4,
  "nbformat_minor": 0
}